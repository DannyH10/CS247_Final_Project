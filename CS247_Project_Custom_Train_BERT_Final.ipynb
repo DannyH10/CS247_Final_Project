{
  "cells": [
    {
      "cell_type": "markdown",
      "source": [
        "# Transformer BERTForQuestionAnswering Custom Training Script"
      ],
      "metadata": {
        "id": "JuO8mJUFA7jh"
      },
      "id": "JuO8mJUFA7jh"
    },
    {
      "cell_type": "markdown",
      "source": [
        "## Important comments:\n",
        "\n",
        "The fine-tuning of the BERT model takes a while to perform. Be prepared to wait and for the session to possibly timeout. \n",
        "\n",
        "Make sure to upload/import the 4 dataset .csv files into your Google Collaboratory environment. This can be done in the following steps:\n",
        "1. Click the 'Files' icon at the very left of this window\n",
        "2. Within this window, click the 'Upload to session storage' icon.\n",
        "3. Select the 4 .csv (2 training and 2 test) files stored either locally on your computer or on your Google Drive.\n",
        "4. Import the files."
      ],
      "metadata": {
        "id": "5SD9H5Tp9bC2"
      },
      "id": "5SD9H5Tp9bC2"
    },
    {
      "cell_type": "markdown",
      "source": [
        "### Install the Huggingface Transformers Python package"
      ],
      "metadata": {
        "id": "FVh9pdHF5odd"
      },
      "id": "FVh9pdHF5odd"
    },
    {
      "cell_type": "code",
      "source": [
        "!pip install transformers"
      ],
      "metadata": {
        "id": "vENG9dpw5wXP"
      },
      "id": "vENG9dpw5wXP",
      "execution_count": null,
      "outputs": []
    },
    {
      "cell_type": "markdown",
      "id": "ac381f18",
      "metadata": {
        "id": "ac381f18"
      },
      "source": [
        "### Import Packages "
      ]
    },
    {
      "cell_type": "code",
      "execution_count": null,
      "id": "16359fe3",
      "metadata": {
        "tags": [],
        "id": "16359fe3"
      },
      "outputs": [],
      "source": [
        "import pandas as pd\n",
        "import numpy as np\n",
        "import os\n",
        "import torch\n",
        "from sklearn.feature_extraction.text import TfidfVectorizer\n",
        "from sklearn.metrics.pairwise import cosine_similarity\n",
        "import nltk\n",
        "from nltk.corpus import stopwords\n",
        "from nltk.stem import WordNetLemmatizer \n",
        "from nltk.stem import PorterStemmer\n",
        "from nltk.tokenize import sent_tokenize, word_tokenize\n",
        "import transformers\n",
        "transformers.logging.set_verbosity_error()\n",
        "# from transformers import BertTokenizer, AutoTokenizer, BertForQuestionAnswering, BertTokenizerFast, BertConfig, DistilBertForQuestionAnswering, DistilBertTokenizerFast\n",
        "from torch.utils.data import DataLoader\n",
        "from tqdm import tqdm\n",
        "from transformers import BertTokenizer,AutoTokenizer,BertForQuestionAnswering\n",
        "from torch.optim import AdamW\n",
        "import random\n",
        "import re\n",
        "import spacy"
      ]
    },
    {
      "cell_type": "markdown",
      "id": "37908d5f",
      "metadata": {
        "id": "37908d5f"
      },
      "source": [
        "### Import the Training Dataset and the training article dataset"
      ]
    },
    {
      "cell_type": "code",
      "execution_count": null,
      "id": "a22f5374",
      "metadata": {
        "colab": {
          "base_uri": "https://localhost:8080/",
          "height": 424
        },
        "id": "a22f5374",
        "outputId": "7e4b0de9-0325-4a10-bf04-2f58d01aaa8a"
      },
      "outputs": [
        {
          "output_type": "display_data",
          "data": {
            "text/plain": [
              "        Unnamed: 0      topic  \\\n",
              "0                0    Beyonce   \n",
              "1                1    Beyonce   \n",
              "2                2    Beyonce   \n",
              "3                3    Beyonce   \n",
              "4                4    Beyonce   \n",
              "...            ...        ...   \n",
              "130046      130046  Kathmandu   \n",
              "130047      130047  Kathmandu   \n",
              "130048      130048  Kathmandu   \n",
              "130049      130049  Kathmandu   \n",
              "130050      130050  Kathmandu   \n",
              "\n",
              "                                                 question  \\\n",
              "0                When did Beyonce start becoming popular?   \n",
              "1       What areas did Beyonce compete in when she was...   \n",
              "2       When did Beyonce leave Destiny's Child and bec...   \n",
              "3           In what city and state did Beyonce  grow up?    \n",
              "4              In which decade did Beyonce become famous?   \n",
              "...                                                   ...   \n",
              "130046  In what US state did Kathmandu first establish...   \n",
              "130047               What was Yangon previously known as?   \n",
              "130048  With what Belorussian city does Kathmandu have...   \n",
              "130049  In what year did Kathmandu create its initial ...   \n",
              "130050                      What is KMC an initialism of?   \n",
              "\n",
              "                             answer  answer_start               question_id  \\\n",
              "0                 in the late 1990s         269.0  56be85543aeaaa14008c9063   \n",
              "1               singing and dancing         207.0  56be85543aeaaa14008c9065   \n",
              "2                              2003         526.0  56be85543aeaaa14008c9066   \n",
              "3                    Houston, Texas         166.0  56bf6b0f3aeaaa14008c9601   \n",
              "4                        late 1990s         276.0  56bf6b0f3aeaaa14008c9602   \n",
              "...                             ...           ...                       ...   \n",
              "130046                       Oregon         229.0  5735d259012e2f140011a09d   \n",
              "130047                      Rangoon         414.0  5735d259012e2f140011a09e   \n",
              "130048                        Minsk         476.0  5735d259012e2f140011a09f   \n",
              "130049                         1975         199.0  5735d259012e2f140011a0a0   \n",
              "130050  Kathmandu Metropolitan City           0.0  5735d259012e2f140011a0a1   \n",
              "\n",
              "                                           answer_context  \n",
              "0       Beyonce Giselle Knowles-Carter (/bi:'janseI/ b...  \n",
              "1       Beyonce Giselle Knowles-Carter (/bi:'janseI/ b...  \n",
              "2       Beyonce Giselle Knowles-Carter (/bi:'janseI/ b...  \n",
              "3       Beyonce Giselle Knowles-Carter (/bi:'janseI/ b...  \n",
              "4       Beyonce Giselle Knowles-Carter (/bi:'janseI/ b...  \n",
              "...                                                   ...  \n",
              "130046  Kathmandu Metropolitan City (KMC), in order to...  \n",
              "130047  Kathmandu Metropolitan City (KMC), in order to...  \n",
              "130048  Kathmandu Metropolitan City (KMC), in order to...  \n",
              "130049  Kathmandu Metropolitan City (KMC), in order to...  \n",
              "130050  Kathmandu Metropolitan City (KMC), in order to...  \n",
              "\n",
              "[86820 rows x 7 columns]"
            ],
            "text/html": [
              "\n",
              "  <div id=\"df-da4f60a8-fd75-4118-a636-618043d24144\">\n",
              "    <div class=\"colab-df-container\">\n",
              "      <div>\n",
              "<style scoped>\n",
              "    .dataframe tbody tr th:only-of-type {\n",
              "        vertical-align: middle;\n",
              "    }\n",
              "\n",
              "    .dataframe tbody tr th {\n",
              "        vertical-align: top;\n",
              "    }\n",
              "\n",
              "    .dataframe thead th {\n",
              "        text-align: right;\n",
              "    }\n",
              "</style>\n",
              "<table border=\"1\" class=\"dataframe\">\n",
              "  <thead>\n",
              "    <tr style=\"text-align: right;\">\n",
              "      <th></th>\n",
              "      <th>Unnamed: 0</th>\n",
              "      <th>topic</th>\n",
              "      <th>question</th>\n",
              "      <th>answer</th>\n",
              "      <th>answer_start</th>\n",
              "      <th>question_id</th>\n",
              "      <th>answer_context</th>\n",
              "    </tr>\n",
              "  </thead>\n",
              "  <tbody>\n",
              "    <tr>\n",
              "      <th>0</th>\n",
              "      <td>0</td>\n",
              "      <td>Beyonce</td>\n",
              "      <td>When did Beyonce start becoming popular?</td>\n",
              "      <td>in the late 1990s</td>\n",
              "      <td>269.0</td>\n",
              "      <td>56be85543aeaaa14008c9063</td>\n",
              "      <td>Beyonce Giselle Knowles-Carter (/bi:'janseI/ b...</td>\n",
              "    </tr>\n",
              "    <tr>\n",
              "      <th>1</th>\n",
              "      <td>1</td>\n",
              "      <td>Beyonce</td>\n",
              "      <td>What areas did Beyonce compete in when she was...</td>\n",
              "      <td>singing and dancing</td>\n",
              "      <td>207.0</td>\n",
              "      <td>56be85543aeaaa14008c9065</td>\n",
              "      <td>Beyonce Giselle Knowles-Carter (/bi:'janseI/ b...</td>\n",
              "    </tr>\n",
              "    <tr>\n",
              "      <th>2</th>\n",
              "      <td>2</td>\n",
              "      <td>Beyonce</td>\n",
              "      <td>When did Beyonce leave Destiny's Child and bec...</td>\n",
              "      <td>2003</td>\n",
              "      <td>526.0</td>\n",
              "      <td>56be85543aeaaa14008c9066</td>\n",
              "      <td>Beyonce Giselle Knowles-Carter (/bi:'janseI/ b...</td>\n",
              "    </tr>\n",
              "    <tr>\n",
              "      <th>3</th>\n",
              "      <td>3</td>\n",
              "      <td>Beyonce</td>\n",
              "      <td>In what city and state did Beyonce  grow up?</td>\n",
              "      <td>Houston, Texas</td>\n",
              "      <td>166.0</td>\n",
              "      <td>56bf6b0f3aeaaa14008c9601</td>\n",
              "      <td>Beyonce Giselle Knowles-Carter (/bi:'janseI/ b...</td>\n",
              "    </tr>\n",
              "    <tr>\n",
              "      <th>4</th>\n",
              "      <td>4</td>\n",
              "      <td>Beyonce</td>\n",
              "      <td>In which decade did Beyonce become famous?</td>\n",
              "      <td>late 1990s</td>\n",
              "      <td>276.0</td>\n",
              "      <td>56bf6b0f3aeaaa14008c9602</td>\n",
              "      <td>Beyonce Giselle Knowles-Carter (/bi:'janseI/ b...</td>\n",
              "    </tr>\n",
              "    <tr>\n",
              "      <th>...</th>\n",
              "      <td>...</td>\n",
              "      <td>...</td>\n",
              "      <td>...</td>\n",
              "      <td>...</td>\n",
              "      <td>...</td>\n",
              "      <td>...</td>\n",
              "      <td>...</td>\n",
              "    </tr>\n",
              "    <tr>\n",
              "      <th>130046</th>\n",
              "      <td>130046</td>\n",
              "      <td>Kathmandu</td>\n",
              "      <td>In what US state did Kathmandu first establish...</td>\n",
              "      <td>Oregon</td>\n",
              "      <td>229.0</td>\n",
              "      <td>5735d259012e2f140011a09d</td>\n",
              "      <td>Kathmandu Metropolitan City (KMC), in order to...</td>\n",
              "    </tr>\n",
              "    <tr>\n",
              "      <th>130047</th>\n",
              "      <td>130047</td>\n",
              "      <td>Kathmandu</td>\n",
              "      <td>What was Yangon previously known as?</td>\n",
              "      <td>Rangoon</td>\n",
              "      <td>414.0</td>\n",
              "      <td>5735d259012e2f140011a09e</td>\n",
              "      <td>Kathmandu Metropolitan City (KMC), in order to...</td>\n",
              "    </tr>\n",
              "    <tr>\n",
              "      <th>130048</th>\n",
              "      <td>130048</td>\n",
              "      <td>Kathmandu</td>\n",
              "      <td>With what Belorussian city does Kathmandu have...</td>\n",
              "      <td>Minsk</td>\n",
              "      <td>476.0</td>\n",
              "      <td>5735d259012e2f140011a09f</td>\n",
              "      <td>Kathmandu Metropolitan City (KMC), in order to...</td>\n",
              "    </tr>\n",
              "    <tr>\n",
              "      <th>130049</th>\n",
              "      <td>130049</td>\n",
              "      <td>Kathmandu</td>\n",
              "      <td>In what year did Kathmandu create its initial ...</td>\n",
              "      <td>1975</td>\n",
              "      <td>199.0</td>\n",
              "      <td>5735d259012e2f140011a0a0</td>\n",
              "      <td>Kathmandu Metropolitan City (KMC), in order to...</td>\n",
              "    </tr>\n",
              "    <tr>\n",
              "      <th>130050</th>\n",
              "      <td>130050</td>\n",
              "      <td>Kathmandu</td>\n",
              "      <td>What is KMC an initialism of?</td>\n",
              "      <td>Kathmandu Metropolitan City</td>\n",
              "      <td>0.0</td>\n",
              "      <td>5735d259012e2f140011a0a1</td>\n",
              "      <td>Kathmandu Metropolitan City (KMC), in order to...</td>\n",
              "    </tr>\n",
              "  </tbody>\n",
              "</table>\n",
              "<p>86820 rows × 7 columns</p>\n",
              "</div>\n",
              "      <button class=\"colab-df-convert\" onclick=\"convertToInteractive('df-da4f60a8-fd75-4118-a636-618043d24144')\"\n",
              "              title=\"Convert this dataframe to an interactive table.\"\n",
              "              style=\"display:none;\">\n",
              "        \n",
              "  <svg xmlns=\"http://www.w3.org/2000/svg\" height=\"24px\"viewBox=\"0 0 24 24\"\n",
              "       width=\"24px\">\n",
              "    <path d=\"M0 0h24v24H0V0z\" fill=\"none\"/>\n",
              "    <path d=\"M18.56 5.44l.94 2.06.94-2.06 2.06-.94-2.06-.94-.94-2.06-.94 2.06-2.06.94zm-11 1L8.5 8.5l.94-2.06 2.06-.94-2.06-.94L8.5 2.5l-.94 2.06-2.06.94zm10 10l.94 2.06.94-2.06 2.06-.94-2.06-.94-.94-2.06-.94 2.06-2.06.94z\"/><path d=\"M17.41 7.96l-1.37-1.37c-.4-.4-.92-.59-1.43-.59-.52 0-1.04.2-1.43.59L10.3 9.45l-7.72 7.72c-.78.78-.78 2.05 0 2.83L4 21.41c.39.39.9.59 1.41.59.51 0 1.02-.2 1.41-.59l7.78-7.78 2.81-2.81c.8-.78.8-2.07 0-2.86zM5.41 20L4 18.59l7.72-7.72 1.47 1.35L5.41 20z\"/>\n",
              "  </svg>\n",
              "      </button>\n",
              "      \n",
              "  <style>\n",
              "    .colab-df-container {\n",
              "      display:flex;\n",
              "      flex-wrap:wrap;\n",
              "      gap: 12px;\n",
              "    }\n",
              "\n",
              "    .colab-df-convert {\n",
              "      background-color: #E8F0FE;\n",
              "      border: none;\n",
              "      border-radius: 50%;\n",
              "      cursor: pointer;\n",
              "      display: none;\n",
              "      fill: #1967D2;\n",
              "      height: 32px;\n",
              "      padding: 0 0 0 0;\n",
              "      width: 32px;\n",
              "    }\n",
              "\n",
              "    .colab-df-convert:hover {\n",
              "      background-color: #E2EBFA;\n",
              "      box-shadow: 0px 1px 2px rgba(60, 64, 67, 0.3), 0px 1px 3px 1px rgba(60, 64, 67, 0.15);\n",
              "      fill: #174EA6;\n",
              "    }\n",
              "\n",
              "    [theme=dark] .colab-df-convert {\n",
              "      background-color: #3B4455;\n",
              "      fill: #D2E3FC;\n",
              "    }\n",
              "\n",
              "    [theme=dark] .colab-df-convert:hover {\n",
              "      background-color: #434B5C;\n",
              "      box-shadow: 0px 1px 3px 1px rgba(0, 0, 0, 0.15);\n",
              "      filter: drop-shadow(0px 1px 2px rgba(0, 0, 0, 0.3));\n",
              "      fill: #FFFFFF;\n",
              "    }\n",
              "  </style>\n",
              "\n",
              "      <script>\n",
              "        const buttonEl =\n",
              "          document.querySelector('#df-da4f60a8-fd75-4118-a636-618043d24144 button.colab-df-convert');\n",
              "        buttonEl.style.display =\n",
              "          google.colab.kernel.accessAllowed ? 'block' : 'none';\n",
              "\n",
              "        async function convertToInteractive(key) {\n",
              "          const element = document.querySelector('#df-da4f60a8-fd75-4118-a636-618043d24144');\n",
              "          const dataTable =\n",
              "            await google.colab.kernel.invokeFunction('convertToInteractive',\n",
              "                                                     [key], {});\n",
              "          if (!dataTable) return;\n",
              "\n",
              "          const docLinkHtml = 'Like what you see? Visit the ' +\n",
              "            '<a target=\"_blank\" href=https://colab.research.google.com/notebooks/data_table.ipynb>data table notebook</a>'\n",
              "            + ' to learn more about interactive tables.';\n",
              "          element.innerHTML = '';\n",
              "          dataTable['output_type'] = 'display_data';\n",
              "          await google.colab.output.renderOutput(dataTable, element);\n",
              "          const docLink = document.createElement('div');\n",
              "          docLink.innerHTML = docLinkHtml;\n",
              "          element.appendChild(docLink);\n",
              "        }\n",
              "      </script>\n",
              "    </div>\n",
              "  </div>\n",
              "  "
            ]
          },
          "metadata": {}
        }
      ],
      "source": [
        "training_BERT_filename = \"/content/squad_training_dataset_BERT.csv\"\n",
        "training_BERT_dataset_df = pd.read_csv(training_BERT_filename)\n",
        "\n",
        "#remove the questions from the dataset that do not contain answers\n",
        "training_BERT_dataset_df = training_BERT_dataset_df.dropna()\n",
        "display(training_BERT_dataset_df)"
      ]
    },
    {
      "cell_type": "markdown",
      "id": "a09de16a",
      "metadata": {
        "id": "a09de16a"
      },
      "source": [
        "#### We are going to have to condense the size of the training dataset so that we can actually run it and get a result within a reasonable amount of time"
      ]
    },
    {
      "cell_type": "code",
      "execution_count": null,
      "id": "87643718",
      "metadata": {
        "colab": {
          "base_uri": "https://localhost:8080/",
          "height": 659
        },
        "id": "87643718",
        "outputId": "879e0887-acde-4b04-eb76-e6b650bf5e58"
      },
      "outputs": [
        {
          "output_type": "display_data",
          "data": {
            "text/plain": [
              "        Unnamed: 0                            topic  \\\n",
              "58128        58128                 Department store   \n",
              "101661      101661                  Muammar Gaddafi   \n",
              "127033      127033                         Genocide   \n",
              "117141      117141                            Sumer   \n",
              "76087        76087  Dissolution of the Soviet Union   \n",
              "...            ...                              ...   \n",
              "36107        36107               Gregorian calendar   \n",
              "95282        95282            Appalachian Mountains   \n",
              "65488        65488                            Alloy   \n",
              "18950        18950             Daylight saving time   \n",
              "30662        30662                Chihuahua (state)   \n",
              "\n",
              "                                                 question  \\\n",
              "58128   What were some of the original Australian depa...   \n",
              "101661       What was the profession of Gaddafi's father?   \n",
              "127033  With Milosevic dead, who did the ICTY next cha...   \n",
              "117141  What language was in use in the Neo-Sumerian E...   \n",
              "76087             Who arrived to protect the White House?   \n",
              "...                                                   ...   \n",
              "36107        By how much is the Julian calendar too long?   \n",
              "95282            What mountains does that region include?   \n",
              "65488                              How is steel produced?   \n",
              "18950   In Australia, were rural or urban areas genera...   \n",
              "30662        Climate in the state depends mainly on what?   \n",
              "\n",
              "                                                   answer  answer_start  \\\n",
              "58128                             Grace Bros. and Waltons         118.0   \n",
              "101661                                        goat herder          35.0   \n",
              "127033                  Radovan Karadzic and Ratko Mladic         380.0   \n",
              "117141                                           Akkadian         161.0   \n",
              "76087                                          Muscovites          13.0   \n",
              "...                                                   ...           ...   \n",
              "36107                                          11 minutes         228.0   \n",
              "95282                                  Catskill Mountains         211.0   \n",
              "65488   Adding a small amount of non-metallic carbon t...         400.0   \n",
              "18950                                               rural         176.0   \n",
              "30662                            elevation of the terrain          47.0   \n",
              "\n",
              "                     question_id  \\\n",
              "58128   572657a0f1498d1400e8dc86   \n",
              "101661  57316b37e6313a140071cf1a   \n",
              "127033  57340aae4776f41900661792   \n",
              "117141  5730a771069b53140083220b   \n",
              "76087   57283e793acd2414000df7ab   \n",
              "...                          ...   \n",
              "36107   570b03a2ec8fbc190045b7d9   \n",
              "95282   57299f39af94a219006aa576   \n",
              "65488   57269e385951b619008f77eb   \n",
              "18950   56e74ffe37bdd419002c3e54   \n",
              "30662   57071b4090286e26004fc917   \n",
              "\n",
              "                                           answer_context  \n",
              "58128   Although there were a number of department sto...  \n",
              "101661  The son of an impoverished Bedouin goat herder...  \n",
              "127033  Slobodan Milosevic, as the former President of...  \n",
              "117141  Native Sumerian rule re-emerged for about a ce...  \n",
              "76087   Thousands of Muscovites came out to defend the...  \n",
              "...                                                   ...  \n",
              "36107   Lilius's proposals had two components. Firstly...  \n",
              "95282   In addition to the true folded mountains, know...  \n",
              "65488   When the alloy cools and solidifies (crystalli...  \n",
              "18950   In 1992, after a three-year trial of daylight ...  \n",
              "30662   The climate in the state depends mainly in the...  \n",
              "\n",
              "[86800 rows x 7 columns]"
            ],
            "text/html": [
              "\n",
              "  <div id=\"df-b56be29e-e2eb-4d64-aed3-8a1fcaaa9905\">\n",
              "    <div class=\"colab-df-container\">\n",
              "      <div>\n",
              "<style scoped>\n",
              "    .dataframe tbody tr th:only-of-type {\n",
              "        vertical-align: middle;\n",
              "    }\n",
              "\n",
              "    .dataframe tbody tr th {\n",
              "        vertical-align: top;\n",
              "    }\n",
              "\n",
              "    .dataframe thead th {\n",
              "        text-align: right;\n",
              "    }\n",
              "</style>\n",
              "<table border=\"1\" class=\"dataframe\">\n",
              "  <thead>\n",
              "    <tr style=\"text-align: right;\">\n",
              "      <th></th>\n",
              "      <th>Unnamed: 0</th>\n",
              "      <th>topic</th>\n",
              "      <th>question</th>\n",
              "      <th>answer</th>\n",
              "      <th>answer_start</th>\n",
              "      <th>question_id</th>\n",
              "      <th>answer_context</th>\n",
              "    </tr>\n",
              "  </thead>\n",
              "  <tbody>\n",
              "    <tr>\n",
              "      <th>58128</th>\n",
              "      <td>58128</td>\n",
              "      <td>Department store</td>\n",
              "      <td>What were some of the original Australian depa...</td>\n",
              "      <td>Grace Bros. and Waltons</td>\n",
              "      <td>118.0</td>\n",
              "      <td>572657a0f1498d1400e8dc86</td>\n",
              "      <td>Although there were a number of department sto...</td>\n",
              "    </tr>\n",
              "    <tr>\n",
              "      <th>101661</th>\n",
              "      <td>101661</td>\n",
              "      <td>Muammar Gaddafi</td>\n",
              "      <td>What was the profession of Gaddafi's father?</td>\n",
              "      <td>goat herder</td>\n",
              "      <td>35.0</td>\n",
              "      <td>57316b37e6313a140071cf1a</td>\n",
              "      <td>The son of an impoverished Bedouin goat herder...</td>\n",
              "    </tr>\n",
              "    <tr>\n",
              "      <th>127033</th>\n",
              "      <td>127033</td>\n",
              "      <td>Genocide</td>\n",
              "      <td>With Milosevic dead, who did the ICTY next cha...</td>\n",
              "      <td>Radovan Karadzic and Ratko Mladic</td>\n",
              "      <td>380.0</td>\n",
              "      <td>57340aae4776f41900661792</td>\n",
              "      <td>Slobodan Milosevic, as the former President of...</td>\n",
              "    </tr>\n",
              "    <tr>\n",
              "      <th>117141</th>\n",
              "      <td>117141</td>\n",
              "      <td>Sumer</td>\n",
              "      <td>What language was in use in the Neo-Sumerian E...</td>\n",
              "      <td>Akkadian</td>\n",
              "      <td>161.0</td>\n",
              "      <td>5730a771069b53140083220b</td>\n",
              "      <td>Native Sumerian rule re-emerged for about a ce...</td>\n",
              "    </tr>\n",
              "    <tr>\n",
              "      <th>76087</th>\n",
              "      <td>76087</td>\n",
              "      <td>Dissolution of the Soviet Union</td>\n",
              "      <td>Who arrived to protect the White House?</td>\n",
              "      <td>Muscovites</td>\n",
              "      <td>13.0</td>\n",
              "      <td>57283e793acd2414000df7ab</td>\n",
              "      <td>Thousands of Muscovites came out to defend the...</td>\n",
              "    </tr>\n",
              "    <tr>\n",
              "      <th>...</th>\n",
              "      <td>...</td>\n",
              "      <td>...</td>\n",
              "      <td>...</td>\n",
              "      <td>...</td>\n",
              "      <td>...</td>\n",
              "      <td>...</td>\n",
              "      <td>...</td>\n",
              "    </tr>\n",
              "    <tr>\n",
              "      <th>36107</th>\n",
              "      <td>36107</td>\n",
              "      <td>Gregorian calendar</td>\n",
              "      <td>By how much is the Julian calendar too long?</td>\n",
              "      <td>11 minutes</td>\n",
              "      <td>228.0</td>\n",
              "      <td>570b03a2ec8fbc190045b7d9</td>\n",
              "      <td>Lilius's proposals had two components. Firstly...</td>\n",
              "    </tr>\n",
              "    <tr>\n",
              "      <th>95282</th>\n",
              "      <td>95282</td>\n",
              "      <td>Appalachian Mountains</td>\n",
              "      <td>What mountains does that region include?</td>\n",
              "      <td>Catskill Mountains</td>\n",
              "      <td>211.0</td>\n",
              "      <td>57299f39af94a219006aa576</td>\n",
              "      <td>In addition to the true folded mountains, know...</td>\n",
              "    </tr>\n",
              "    <tr>\n",
              "      <th>65488</th>\n",
              "      <td>65488</td>\n",
              "      <td>Alloy</td>\n",
              "      <td>How is steel produced?</td>\n",
              "      <td>Adding a small amount of non-metallic carbon t...</td>\n",
              "      <td>400.0</td>\n",
              "      <td>57269e385951b619008f77eb</td>\n",
              "      <td>When the alloy cools and solidifies (crystalli...</td>\n",
              "    </tr>\n",
              "    <tr>\n",
              "      <th>18950</th>\n",
              "      <td>18950</td>\n",
              "      <td>Daylight saving time</td>\n",
              "      <td>In Australia, were rural or urban areas genera...</td>\n",
              "      <td>rural</td>\n",
              "      <td>176.0</td>\n",
              "      <td>56e74ffe37bdd419002c3e54</td>\n",
              "      <td>In 1992, after a three-year trial of daylight ...</td>\n",
              "    </tr>\n",
              "    <tr>\n",
              "      <th>30662</th>\n",
              "      <td>30662</td>\n",
              "      <td>Chihuahua (state)</td>\n",
              "      <td>Climate in the state depends mainly on what?</td>\n",
              "      <td>elevation of the terrain</td>\n",
              "      <td>47.0</td>\n",
              "      <td>57071b4090286e26004fc917</td>\n",
              "      <td>The climate in the state depends mainly in the...</td>\n",
              "    </tr>\n",
              "  </tbody>\n",
              "</table>\n",
              "<p>86800 rows × 7 columns</p>\n",
              "</div>\n",
              "      <button class=\"colab-df-convert\" onclick=\"convertToInteractive('df-b56be29e-e2eb-4d64-aed3-8a1fcaaa9905')\"\n",
              "              title=\"Convert this dataframe to an interactive table.\"\n",
              "              style=\"display:none;\">\n",
              "        \n",
              "  <svg xmlns=\"http://www.w3.org/2000/svg\" height=\"24px\"viewBox=\"0 0 24 24\"\n",
              "       width=\"24px\">\n",
              "    <path d=\"M0 0h24v24H0V0z\" fill=\"none\"/>\n",
              "    <path d=\"M18.56 5.44l.94 2.06.94-2.06 2.06-.94-2.06-.94-.94-2.06-.94 2.06-2.06.94zm-11 1L8.5 8.5l.94-2.06 2.06-.94-2.06-.94L8.5 2.5l-.94 2.06-2.06.94zm10 10l.94 2.06.94-2.06 2.06-.94-2.06-.94-.94-2.06-.94 2.06-2.06.94z\"/><path d=\"M17.41 7.96l-1.37-1.37c-.4-.4-.92-.59-1.43-.59-.52 0-1.04.2-1.43.59L10.3 9.45l-7.72 7.72c-.78.78-.78 2.05 0 2.83L4 21.41c.39.39.9.59 1.41.59.51 0 1.02-.2 1.41-.59l7.78-7.78 2.81-2.81c.8-.78.8-2.07 0-2.86zM5.41 20L4 18.59l7.72-7.72 1.47 1.35L5.41 20z\"/>\n",
              "  </svg>\n",
              "      </button>\n",
              "      \n",
              "  <style>\n",
              "    .colab-df-container {\n",
              "      display:flex;\n",
              "      flex-wrap:wrap;\n",
              "      gap: 12px;\n",
              "    }\n",
              "\n",
              "    .colab-df-convert {\n",
              "      background-color: #E8F0FE;\n",
              "      border: none;\n",
              "      border-radius: 50%;\n",
              "      cursor: pointer;\n",
              "      display: none;\n",
              "      fill: #1967D2;\n",
              "      height: 32px;\n",
              "      padding: 0 0 0 0;\n",
              "      width: 32px;\n",
              "    }\n",
              "\n",
              "    .colab-df-convert:hover {\n",
              "      background-color: #E2EBFA;\n",
              "      box-shadow: 0px 1px 2px rgba(60, 64, 67, 0.3), 0px 1px 3px 1px rgba(60, 64, 67, 0.15);\n",
              "      fill: #174EA6;\n",
              "    }\n",
              "\n",
              "    [theme=dark] .colab-df-convert {\n",
              "      background-color: #3B4455;\n",
              "      fill: #D2E3FC;\n",
              "    }\n",
              "\n",
              "    [theme=dark] .colab-df-convert:hover {\n",
              "      background-color: #434B5C;\n",
              "      box-shadow: 0px 1px 3px 1px rgba(0, 0, 0, 0.15);\n",
              "      filter: drop-shadow(0px 1px 2px rgba(0, 0, 0, 0.3));\n",
              "      fill: #FFFFFF;\n",
              "    }\n",
              "  </style>\n",
              "\n",
              "      <script>\n",
              "        const buttonEl =\n",
              "          document.querySelector('#df-b56be29e-e2eb-4d64-aed3-8a1fcaaa9905 button.colab-df-convert');\n",
              "        buttonEl.style.display =\n",
              "          google.colab.kernel.accessAllowed ? 'block' : 'none';\n",
              "\n",
              "        async function convertToInteractive(key) {\n",
              "          const element = document.querySelector('#df-b56be29e-e2eb-4d64-aed3-8a1fcaaa9905');\n",
              "          const dataTable =\n",
              "            await google.colab.kernel.invokeFunction('convertToInteractive',\n",
              "                                                     [key], {});\n",
              "          if (!dataTable) return;\n",
              "\n",
              "          const docLinkHtml = 'Like what you see? Visit the ' +\n",
              "            '<a target=\"_blank\" href=https://colab.research.google.com/notebooks/data_table.ipynb>data table notebook</a>'\n",
              "            + ' to learn more about interactive tables.';\n",
              "          element.innerHTML = '';\n",
              "          dataTable['output_type'] = 'display_data';\n",
              "          await google.colab.output.renderOutput(dataTable, element);\n",
              "          const docLink = document.createElement('div');\n",
              "          docLink.innerHTML = docLinkHtml;\n",
              "          element.appendChild(docLink);\n",
              "        }\n",
              "      </script>\n",
              "    </div>\n",
              "  </div>\n",
              "  "
            ]
          },
          "metadata": {}
        }
      ],
      "source": [
        "#we will be using the BERT dataset only as previous testing has shown that punctuation is necessary\n",
        "#take a subset from the training dataset\n",
        "samples = 86800\n",
        "training_data_df = training_BERT_dataset_df.sample(n = samples)\n",
        "# training_data_df = training_BERT_dataset_df.iloc[0:samples]\n",
        "display(training_data_df)"
      ]
    },
    {
      "cell_type": "markdown",
      "id": "78ac8116",
      "metadata": {
        "id": "78ac8116"
      },
      "source": [
        "### Extract the questions, answer, paragraphs, and answer starts from the sample dataset"
      ]
    },
    {
      "cell_type": "code",
      "execution_count": null,
      "id": "141f19e3",
      "metadata": {
        "id": "141f19e3"
      },
      "outputs": [],
      "source": [
        "train_questions = training_data_df['question'].to_list()\n",
        "train_answers = training_data_df['answer'].to_list()\n",
        "train_topics = training_data_df['topic'].to_list()\n",
        "train_answers_start = training_data_df['answer_start'].to_list()\n",
        "train_paragraphs = training_data_df['answer_context'].to_list()"
      ]
    },
    {
      "cell_type": "markdown",
      "id": "9e159f5b",
      "metadata": {
        "id": "9e159f5b"
      },
      "source": [
        "### Find the end position of the correct answer for each question in training dataset"
      ]
    },
    {
      "cell_type": "code",
      "execution_count": null,
      "id": "d2e21dd6",
      "metadata": {
        "colab": {
          "base_uri": "https://localhost:8080/"
        },
        "id": "d2e21dd6",
        "outputId": "130329df-78a9-40c9-8c46-eca77d34b3c7"
      },
      "outputs": [
        {
          "output_type": "stream",
          "name": "stdout",
          "text": [
            "{'text': 'Grace Bros. and Waltons', 'answer_start': 118, 'answer_end': 141}\n"
          ]
        }
      ],
      "source": [
        "def Get_Answer_EndPosition(answers,answers_start):\n",
        "    #generate a dictionary of text, answer start, and answer end\n",
        "    train_answers = []\n",
        "    for i in range(len(answers)):\n",
        "        #get the answer end of the dataset\n",
        "        start = answers_start[i]\n",
        "        curr_answer = str(answers[i])\n",
        "        \n",
        "        start = int(start)\n",
        "        end = int(start + len(curr_answer))\n",
        "\n",
        "        temp_dict = {'text':curr_answer,'answer_start':start,'answer_end':end}\n",
        "\n",
        "        train_answers.append(temp_dict)\n",
        "        \n",
        "    return train_answers\n",
        "\n",
        "train_answers = Get_Answer_EndPosition(train_answers,train_answers_start)\n",
        "print(train_answers[0])"
      ]
    },
    {
      "cell_type": "markdown",
      "id": "7a382a8c",
      "metadata": {
        "id": "7a382a8c"
      },
      "source": [
        "### Tokenize the paragraphs and the questions"
      ]
    },
    {
      "cell_type": "code",
      "execution_count": null,
      "id": "3073f91f",
      "metadata": {
        "id": "3073f91f"
      },
      "outputs": [],
      "source": [
        "tokenizer = AutoTokenizer.from_pretrained(\"bert-base-uncased\")\n",
        "train_encodings = tokenizer(train_paragraphs,train_questions,truncation=True,padding=True)\n",
        "\n",
        "#define function that adds the start and end encodings\n",
        "def Append_StartEnd_Positions(tokenizer,encodings, answers):\n",
        "    #create lists that contain the token indices of answer start and end pairs\n",
        "    start_indices = []\n",
        "    end_indices = []\n",
        "    \n",
        "    for i in range(len(answers)):\n",
        "        #create tokens for the start and end position words\n",
        "        curr_start_encoding = encodings.char_to_token(i,answers[i]['answer_start'])\n",
        "        curr_end_encoding = encodings.char_to_token(i,answers[i]['answer_end'])\n",
        "\n",
        "        #append stuff\n",
        "        start_indices.append(curr_start_encoding)\n",
        "        end_indices.append(curr_end_encoding)\n",
        "\n",
        "        #check to see if the last encoding was of type none\n",
        "        if(start_indices[-1] is None):\n",
        "            start_indices[-1] = tokenizer.model_max_length\n",
        "        #now handle the end word since the start word was set to the token of the last word\n",
        "        offset = 1\n",
        "        while(end_indices[-1] is None):\n",
        "            end_indices[-1] = encodings.char_to_token(i,answers[i]['answer_end']-offset)\n",
        "            offset += 1\n",
        "\n",
        "    #modify the encoding object\n",
        "    encodings.update({'start':start_indices,'end':end_indices})\n",
        "\n",
        "#call the function on the training dataset\n",
        "Append_StartEnd_Positions(tokenizer,train_encodings,train_answers)"
      ]
    },
    {
      "cell_type": "markdown",
      "source": [
        "### Set-up GPU usage for PyTorch"
      ],
      "metadata": {
        "id": "D2Qq3dH-G24w"
      },
      "id": "D2Qq3dH-G24w"
    },
    {
      "cell_type": "code",
      "source": [
        "device = torch.device('Using GPU(s)' if torch.cuda.is_available() else 'Using CPU')\n",
        "print(device)"
      ],
      "metadata": {
        "colab": {
          "base_uri": "https://localhost:8080/"
        },
        "id": "Efq3SKQSG0WL",
        "outputId": "7c5158b8-71ca-4420-ccdb-a9617c68eebf"
      },
      "id": "Efq3SKQSG0WL",
      "execution_count": null,
      "outputs": [
        {
          "output_type": "stream",
          "name": "stdout",
          "text": [
            "cuda:0\n"
          ]
        }
      ]
    },
    {
      "cell_type": "markdown",
      "id": "3a95181a",
      "metadata": {
        "id": "3a95181a"
      },
      "source": [
        "### Initialize the dataset as a tensor"
      ]
    },
    {
      "cell_type": "code",
      "execution_count": null,
      "id": "9bf2221f",
      "metadata": {
        "id": "9bf2221f"
      },
      "outputs": [],
      "source": [
        "#create a class to handle the conversion from tokens to PyTorch Tensors\n",
        "#this will convert the tokenized encodings into encoding that PyTorch can handle\n",
        "class Tensor_TrainingDataset(torch.utils.data.Dataset):\n",
        "    def __init__(self, encodings):\n",
        "        self.encodings = encodings\n",
        "        \n",
        "    def __getitem__(self, index):\n",
        "#         for key, val in self.encodings.items():\n",
        "#             return {key: torch.tensor(val[index])}\n",
        "        return {key : torch.as_tensor(val[index]) for key, val in self.encodings.items()}\n",
        "    \n",
        "    def __len__(self):\n",
        "        return len(self.encodings.input_ids)\n",
        "    \n",
        "#build tensor dataset for the training dataset\n",
        "train_tensor_dataset = Tensor_TrainingDataset(train_encodings)"
      ]
    },
    {
      "cell_type": "markdown",
      "id": "c896a0ac",
      "metadata": {
        "id": "c896a0ac"
      },
      "source": [
        "### Define the Model "
      ]
    },
    {
      "cell_type": "code",
      "execution_count": null,
      "id": "bc33b095",
      "metadata": {
        "id": "bc33b095"
      },
      "outputs": [],
      "source": [
        "BERT_model = BertForQuestionAnswering.from_pretrained(\"bert-base-uncased\").to(device)"
      ]
    },
    {
      "cell_type": "markdown",
      "id": "70bc7430",
      "metadata": {
        "id": "70bc7430"
      },
      "source": [
        "### Define Process for Model Training"
      ]
    },
    {
      "cell_type": "code",
      "execution_count": null,
      "id": "db3ede11",
      "metadata": {
        "id": "db3ede11"
      },
      "outputs": [],
      "source": [
        "def Train_BERT(model,training_data,learning_rate,num_epochs,batch_size=10):\n",
        "    #make training mode accessible\n",
        "    model.train()\n",
        "\n",
        "    #define the adam optimizer\n",
        "    optimizer = AdamW(model.parameters(), lr=learning_rate)\n",
        "\n",
        "    #define a data loader object for handling our training data\n",
        "    train_loader = DataLoader(training_data,batch_size=batch_size,shuffle=True)\n",
        "\n",
        "    #define an list to store the losses\n",
        "    losses = []\n",
        "    \n",
        "    #iterate over the number of epochs\n",
        "    epochs = num_epochs\n",
        "    for epoch in range(epochs):\n",
        "        model.train()\n",
        "\n",
        "        #setup the progess bar\n",
        "        progress = tqdm(train_loader, leave=True)\n",
        "\n",
        "        #iterate over the number of items in the loader object\n",
        "        for batch in progress:\n",
        "            #initialize the gradient calculations to zero (reset gradients)\n",
        "            optimizer.zero_grad()\n",
        "\n",
        "            #collect the tensor batches for training\n",
        "            input_ids = batch['input_ids'].to(device)\n",
        "\n",
        "            #collect the attention mask layer data\n",
        "            attention_mask = batch['attention_mask'].to(device)\n",
        "\n",
        "            #get the true start and end positions\n",
        "            start_pos = batch['start'].to(device).to(device)\n",
        "            end_pos = batch['end'].to(device).to(device)\n",
        "\n",
        "            #conduct training on the model\n",
        "            outputs = model(input_ids,attention_mask=attention_mask,start_positions=start_pos,end_positions=end_pos)\n",
        "\n",
        "            #get the loss\n",
        "            loss = outputs[0]\n",
        "\n",
        "            #compute the gradients\n",
        "            loss.backward()\n",
        "\n",
        "            #update the gradient parameters in memory\n",
        "            optimizer.step()\n",
        "            \n",
        "            #append the current loss to the losses list\n",
        "            losses.append(loss.item())\n",
        "\n",
        "            #update the progress bar\n",
        "            progress.set_description(f'Epoch {epoch}')\n",
        "            progress.set_postfix(loss=loss.item())\n",
        "            \n",
        "    return model, losses"
      ]
    },
    {
      "cell_type": "markdown",
      "id": "366edb85",
      "metadata": {
        "id": "366edb85"
      },
      "source": [
        "### Run the training of the BERT model, then immediately save the model to avoid any issues with Google Colab session timeout.\n",
        "\n",
        "Hack:\n",
        "\n",
        "To avoid Google Colaboratory session timeout,\n",
        "  \n",
        "1. Open the Settings tab of Google Chrome\n",
        "2. Navigate to 'More Tools' --> click 'Developer Tools'\n",
        "3. A tab will now open with the Developer tools. At the top of the tools tab select 'Console'\n",
        "4. In the Console command line, add the following code:\n",
        "\n",
        "  function ClickConnect(){\n",
        "      console.log(\"Working\"); \n",
        "      document.querySelector(\"colab-toolbar-button\").click()}\n",
        "setInterval(ClickConnect,360000)\n",
        "5. After you have pasted this into the command line, press ENTER on your keyboard.\n",
        "\n",
        "This process will routinely add new blocks to the notebook, so that the Google Collaboratory sesssion does not terminate due to timeout contrainsts inposed by Google."
      ]
    },
    {
      "cell_type": "code",
      "execution_count": null,
      "id": "6c1f9cc3",
      "metadata": {
        "colab": {
          "base_uri": "https://localhost:8080/"
        },
        "id": "6c1f9cc3",
        "outputId": "35bd8349-f628-4e65-99ef-42e74d13401b"
      },
      "outputs": [
        {
          "output_type": "stream",
          "name": "stderr",
          "text": [
            "Epoch 0: 100%|██████████| 8680/8680 [1:23:36<00:00,  1.73it/s, loss=0.618]\n",
            "Epoch 1: 100%|██████████| 8680/8680 [1:23:38<00:00,  1.73it/s, loss=0.324]\n",
            "Epoch 2: 100%|██████████| 8680/8680 [1:23:40<00:00,  1.73it/s, loss=1.12]\n",
            "Epoch 3: 100%|██████████| 8680/8680 [1:23:43<00:00,  1.73it/s, loss=0.869]\n",
            "Epoch 4: 100%|██████████| 8680/8680 [1:23:44<00:00,  1.73it/s, loss=1.21]\n"
          ]
        },
        {
          "output_type": "execute_result",
          "data": {
            "text/plain": [
              "('Custom-BERT-model-5/tokenizer_config.json',\n",
              " 'Custom-BERT-model-5/special_tokens_map.json',\n",
              " 'Custom-BERT-model-5/vocab.txt',\n",
              " 'Custom-BERT-model-5/added_tokens.json',\n",
              " 'Custom-BERT-model-5/tokenizer.json')"
            ]
          },
          "metadata": {},
          "execution_count": 11
        }
      ],
      "source": [
        "BERT_model_trained, training_losses = Train_BERT(model=BERT_model,training_data=train_tensor_dataset,learning_rate=5e-5,num_epochs=5,batch_size=10)\n",
        "\n",
        "# Save model\n",
        "model_path = \"Custom-BERT-model\"\n",
        "# torch.save(model,model_path)\n",
        "BERT_model_trained.save_pretrained(model_path)\n",
        "tokenizer.save_pretrained(model_path)"
      ]
    },
    {
      "cell_type": "markdown",
      "id": "41c4547c-a4c8-4278-9f37-71928503c99f",
      "metadata": {
        "id": "41c4547c-a4c8-4278-9f37-71928503c99f"
      },
      "source": [
        "### Plot the Model Training Loss over training iteration"
      ]
    },
    {
      "cell_type": "code",
      "execution_count": null,
      "id": "0d51c2b1-0c9d-44ed-a65f-c089061f1617",
      "metadata": {
        "id": "0d51c2b1-0c9d-44ed-a65f-c089061f1617",
        "colab": {
          "base_uri": "https://localhost:8080/",
          "height": 361
        },
        "outputId": "055ae6dd-58d0-4e3e-af45-3ae39e3c13ea"
      },
      "outputs": [
        {
          "output_type": "display_data",
          "data": {
            "text/plain": [
              "<Figure size 432x288 with 1 Axes>"
            ],
            "image/png": "[encoded data removed]"
          },
          "metadata": {}
        }
      ],
      "source": [
        "import matplotlib.pyplot as plt\n",
        "import seaborn as sns\n",
        "sns.set()\n",
        "\n",
        "#create an array for the x-axis of the plot\n",
        "iterations = np.arange(0,(samples/10)*5,1)\n",
        "\n",
        "sns.set_theme(font_scale=1)\n",
        "lossPlot = sns.lineplot(x=iterations, y=training_losses)\n",
        "lossPlot.set_title(\"Custom BERT Model Training Performance Histogram\\nTraining Data Samples = 86800 Questions\\nepochs=2\\nlearning_rate=1e-4\\nbatch_size=10\")\n",
        "lossPlot.set(xlabel = \"Training Iteration (10 Questions/Batch)\", ylabel = \"Training Loss\")\n",
        "plt.show()"
      ]
    },
    {
      "cell_type": "code",
      "source": [
        "#histogram plot of loss\n",
        "from scipy.stats import norm\n",
        "# losshistPlot = sns.histplot(x=training_losses,bins=100,stat=\"density\")\n",
        "losshistPlot = sns.distplot(x=training_losses,bins=100,hist=True)\n",
        "losshistPlot.set_title(\"Custom BERT Model Training Performance\\nTraining Data Samples = 86800 Questions\\nepochs=5\\nlearning_rate=5e-5\\nbatch_size=10\")\n",
        "losshistPlot.set(xlabel = \"Training Loss (10 Questions/Batch)\")\n",
        "losshistPlot.set(ylabel = \"Probability\")\n",
        "losshistPlot.set_xlim(0, 3)\n",
        "plt.show()"
      ],
      "metadata": {
        "colab": {
          "base_uri": "https://localhost:8080/",
          "height": 416
        },
        "id": "AmlqnxuM9_Zb",
        "outputId": "ace91262-dbf9-4268-9a45-5a62f737aba1"
      },
      "id": "AmlqnxuM9_Zb",
      "execution_count": null,
      "outputs": [
        {
          "output_type": "stream",
          "name": "stderr",
          "text": [
            "/usr/local/lib/python3.7/dist-packages/seaborn/distributions.py:2619: FutureWarning: `distplot` is a deprecated function and will be removed in a future version. Please adapt your code to use either `displot` (a figure-level function with similar flexibility) or `histplot` (an axes-level function for histograms).\n",
            "  warnings.warn(msg, FutureWarning)\n"
          ]
        },
        {
          "output_type": "display_data",
          "data": {
            "text/plain": [
              "<Figure size 432x288 with 1 Axes>"
            ],
            "image/png": "[encoded data removed]"
          },
          "metadata": {}
        }
      ]
    },
    {
      "cell_type": "markdown",
      "id": "b50adc93-b87e-4f9f-892e-eaa8e142d83b",
      "metadata": {
        "id": "b50adc93-b87e-4f9f-892e-eaa8e142d83b"
      },
      "source": [
        "### Save the BERT model to the desktop"
      ]
    },
    {
      "cell_type": "code",
      "execution_count": null,
      "id": "91698a55-f3a4-441c-86e5-8596234d06e8",
      "metadata": {
        "id": "91698a55-f3a4-441c-86e5-8596234d06e8",
        "colab": {
          "base_uri": "https://localhost:8080/"
        },
        "outputId": "d4f44b99-33f4-4a34-f74e-3d555751506e"
      },
      "outputs": [
        {
          "output_type": "execute_result",
          "data": {
            "text/plain": [
              "('Custom-BERT-model-2/tokenizer_config.json',\n",
              " 'Custom-BERT-model-2/special_tokens_map.json',\n",
              " 'Custom-BERT-model-2/vocab.txt',\n",
              " 'Custom-BERT-model-2/added_tokens.json',\n",
              " 'Custom-BERT-model-2/tokenizer.json')"
            ]
          },
          "metadata": {},
          "execution_count": 13
        }
      ],
      "source": [
        "# from google.colab import drive\n",
        "# drive.mount('/content/drive')\n",
        "# from google.colab import files\n",
        "\n",
        "# Save model\n",
        "model_path = \"Custom-BERT-model-2\"\n",
        "# torch.save(model,model_path)\n",
        "BERT_model_trained.save_pretrained(model_path)\n",
        "tokenizer.save_pretrained(model_path)"
      ]
    },
    {
      "cell_type": "markdown",
      "id": "a52ee3c6",
      "metadata": {
        "id": "a52ee3c6"
      },
      "source": [
        "### Evaluate the trained BERT model"
      ]
    },
    {
      "cell_type": "code",
      "execution_count": null,
      "id": "d77dfae3",
      "metadata": {
        "id": "d77dfae3"
      },
      "outputs": [],
      "source": [
        "def Test_BERT(model,test_data,batch_size=1):\n",
        "    model.eval()\n",
        "    # initialize validation set data loader\n",
        "    val_loader = DataLoader(test_data, batch_size=batch_size)\n",
        "    # initialize list to store accuracies\n",
        "    acc = []\n",
        "    # loop through batches\n",
        "    for batch in val_loader:\n",
        "        # we don't need to calculate gradients as we're not training\n",
        "        with torch.no_grad():\n",
        "            # pull batched items from loader\n",
        "            input_ids = batch['input_ids']\n",
        "            attention_mask = batch['attention_mask']\n",
        "            # we will use true positions for accuracy calc\n",
        "            start_true = batch['start']\n",
        "            end_true = batch['end']\n",
        "\n",
        "            # print(start_true)\n",
        "            # print(end_true)\n",
        "\n",
        "            # make predictions\n",
        "            outputs = model(input_ids, attention_mask=attention_mask)\n",
        "            # pull prediction tensors out and argmax to get predicted tokens\n",
        "            start_pred = torch.argmax(outputs['start_logits'], dim=1)\n",
        "            end_pred = torch.argmax(outputs['end_logits'], dim=1)\n",
        "\n",
        "            # print(start_pred)\n",
        "            # print(end_pred)\n",
        "\n",
        "            # calculate accuracy for both and append to accuracy list\n",
        "            acc.append(((start_pred == start_true).sum()/len(start_pred)).item())\n",
        "            acc.append(((end_pred == end_true).sum()/len(end_pred)).item())\n",
        "    # calculate average accuracy in total\n",
        "    acc = sum(acc)/len(acc)\n",
        "    \n",
        "    return acc"
      ]
    },
    {
      "cell_type": "markdown",
      "id": "54e3ca29",
      "metadata": {
        "id": "54e3ca29"
      },
      "source": [
        "### Run the BERT test"
      ]
    },
    {
      "cell_type": "code",
      "execution_count": null,
      "id": "93fece83",
      "metadata": {
        "id": "93fece83"
      },
      "outputs": [],
      "source": [
        "Test_BERT(model=BERT_model_trained,test_data=train_tensor_dataset,batch_size=10)"
      ]
    }
  ],
  "metadata": {
    "environment": {
      "kernel": "python3",
      "name": "pytorch-gpu.1-10.m90",
      "type": "gcloud",
      "uri": "gcr.io/deeplearning-platform-release/pytorch-gpu.1-10:m90"
    },
    "kernelspec": {
      "display_name": "Python 3",
      "language": "python",
      "name": "python3"
    },
    "language_info": {
      "codemirror_mode": {
        "name": "ipython",
        "version": 3
      },
      "file_extension": ".py",
      "mimetype": "text/x-python",
      "name": "python",
      "nbconvert_exporter": "python",
      "pygments_lexer": "ipython3",
      "version": "3.7.12"
    },
    "colab": {
      "name": "CS247_Project_Custom_Train_BERT_Final.ipynb",
      "provenance": []
    }
  },
  "nbformat": 4,
  "nbformat_minor": 5
}